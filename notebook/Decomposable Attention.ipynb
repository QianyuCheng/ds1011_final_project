{
 "cells": [
  {
   "cell_type": "code",
   "execution_count": 1,
   "metadata": {
    "collapsed": true
   },
   "outputs": [],
   "source": [
    "from torchtext import data, datasets\n",
    "import torch\n",
    "import torch.nn as nn\n",
    "from torch.autograd import Variable\n",
    "import torch.nn.functional as F\n",
    "import re\n",
    "import random"
   ]
  },
  {
   "cell_type": "code",
   "execution_count": 66,
   "metadata": {},
   "outputs": [],
   "source": [
    "inputs = datasets.snli.ParsedTextField(lower=True)\n",
    "answers = data.Field(sequential=False)\n",
    "\n",
    "train, dev, test = datasets.SNLI.splits(inputs, answers)\n",
    "\n",
    "inputs.build_vocab(train, dev, test)\n",
    "answers.build_vocab(train)\n",
    "\n",
    "train_iter, dev_iter, test_iter = data.BucketIterator.splits(\n",
    "            (train, dev, test), batch_size=32, device=-1)"
   ]
  },
  {
   "cell_type": "code",
   "execution_count": 316,
   "metadata": {},
   "outputs": [],
   "source": [
    "# A Multi-Layer Perceptron (MLP)\n",
    "class DecomposableAttention(nn.Module): # inheriting from nn.Module!\n",
    "    \n",
    "    def __init__(self, input_size, embedding_dim, hidden_dim, num_labels):\n",
    "        super(DecomposableAttention, self).__init__()\n",
    "        \n",
    "        # Define the parameters that you will need.  \n",
    "        # You need an embedding matrix, parameters for affine mappings and ReLus\n",
    "        # Pay attention to dimensions!\n",
    "        self.embedding_dim = embedding_dim \n",
    "        self.hidden_dim = hidden_dim\n",
    "        self.dropout = nn.Dropout(p=0.2)\n",
    "        self.embed = nn.Embedding(input_size, embedding_dim, padding_idx=0)\n",
    "        self.linear_1 = nn.Linear(embedding_dim, hidden_dim)\n",
    "        self.linear_f = nn.Linear(hidden_dim, hidden_dim)\n",
    "        self.linear_g = nn.Linear(2 * hidden_dim, hidden_dim)\n",
    "        self.linear_final = nn.Linear(hidden_dim, num_labels)\n",
    "        \n",
    "    def forward(self, prem, hypo):\n",
    "        # Prepare  \n",
    "        prem_emb = self.embed(prem)\n",
    "        hypo_emb = self.embed(hypo)\n",
    "        prem_emb = self.linear_1(prem_emb)\n",
    "        hypo_emb = self.linear_1(hypo_emb)\n",
    "        \n",
    "        # Attend\n",
    "        #print('Premise size', prem_emb.size())\n",
    "        #print('Hypo size', hypo_emb.size())\n",
    "        prem_ff = self.dropout(prem_emb)\n",
    "        prem_ff = F.relu(self.linear_f(prem_ff))\n",
    "        prem_ff = self.dropout(prem_ff)\n",
    "        prem_ff = F.relu(self.linear_f(prem_ff))\n",
    "        \n",
    "        hypo_ff = self.dropout(hypo_emb)\n",
    "        hypo_ff = F.relu(self.linear_f(hypo_ff))\n",
    "        hypo_ff = self.dropout(hypo_ff)\n",
    "        hypo_ff = F.relu(self.linear_f(hypo_ff))\n",
    "\n",
    "        e_ij = torch.bmm(prem_ff, torch.transpose(hypo_ff, 1, 2))\n",
    "        #print('eij', e_ij.size())\n",
    "        beta_ij = F.softmax(e_ij)\n",
    "        #print('beta_ij', beta_ij.size())\n",
    "        beta_i = torch.bmm(beta_ij, hypo_emb)\n",
    "\n",
    "        e_ji = torch.transpose(e_ij, 1, 2)\n",
    "        alpha_ji = F.softmax(e_ji)\n",
    "        alpha_j = torch.bmm(alpha_ji, prem_emb)\n",
    "        \n",
    "        aligned_1 = torch.cat((prem_emb, beta_i), 2)       \n",
    "        aligned_2 = torch.cat((hypo_emb, alpha_j), 2)\n",
    "        #print(aligned_2.size())\n",
    "        \n",
    "        # Compare\n",
    "        aligned_1 = self.dropout(aligned_1)\n",
    "        aligned_1 = F.relu(self.linear_g(aligned_1))\n",
    "        aligned_1 = self.dropout(aligned_1)\n",
    "        aligned_1 = F.relu(self.linear_f(aligned_1))\n",
    "        \n",
    "        aligned_2 = self.dropout(aligned_2)\n",
    "        #print(aligned_2.size())\n",
    "        aligned_2 = F.relu(self.linear_g(aligned_2))\n",
    "        aligned_2 = self.dropout(aligned_2)\n",
    "        aligned_2 = F.relu(self.linear_f(aligned_2))\n",
    "        #print(aligned_2.size())\n",
    "        \n",
    "        # Aggregate\n",
    "        v_1 = torch.sum(aligned_1, 1)\n",
    "        v_2 = torch.sum(aligned_2, 1)\n",
    "        #print(v_1.size())\n",
    "        v_concat = torch.cat((v_1, v_2), 1)\n",
    "        \n",
    "        v_concat = self.dropout(v_concat)\n",
    "        v_concat = F.relu(self.linear_g(v_concat))\n",
    "        v_concat = self.dropout(v_concat)\n",
    "        v_concat = F.relu(self.linear_f(v_concat))\n",
    "        #print(v_concat.size())\n",
    "        \n",
    "        out = F.log_softmax(self.linear_final(v_concat))\n",
    "        \n",
    "        return out"
   ]
  },
  {
   "cell_type": "code",
   "execution_count": 317,
   "metadata": {
    "collapsed": true
   },
   "outputs": [],
   "source": [
    "def training_loop(model, loss, optimizer, train_iter, dev_iter):\n",
    "    step = 0\n",
    "    for i in range(num_train_steps):\n",
    "        model.train()\n",
    "        for batch in train_iter:\n",
    "            premise = batch.premise.transpose(0,1)\n",
    "            hypothesis = batch.hypothesis.transpose(0,1)\n",
    "            labels = batch.label-1\n",
    "            model.zero_grad()\n",
    "            output = model(premise, hypothesis)\n",
    "            lossy = loss(output, labels)\n",
    "            #print(lossy)\n",
    "            lossy.backward()\n",
    "            optimizer.step()\n",
    "\n",
    "            if step % 10 == 0:\n",
    "                print( \"Step %i; Loss %f; Dev acc %f\" \n",
    "                %(step, lossy.data[0], evaluate(model, dev_iter)))\n",
    "\n",
    "            step += 1"
   ]
  },
  {
   "cell_type": "code",
   "execution_count": 318,
   "metadata": {
    "collapsed": true
   },
   "outputs": [],
   "source": [
    "def evaluate(model, data_iter):\n",
    "    model.eval()\n",
    "    correct = 0\n",
    "    total = 0\n",
    "    for batch in data_iter:\n",
    "        premise = batch.premise.transpose(0,1)\n",
    "        hypothesis = batch.hypothesis.transpose(0,1)\n",
    "        labels = (batch.label-1).data\n",
    "        output = model(premise, hypothesis)\n",
    "        _, predicted = torch.max(output.data, 1)\n",
    "        total += labels.size(0)\n",
    "        correct += (predicted == labels).sum()\n",
    "    model.train()\n",
    "    return correct / float(total)"
   ]
  },
  {
   "cell_type": "code",
   "execution_count": 319,
   "metadata": {
    "collapsed": true
   },
   "outputs": [],
   "source": [
    "vocab_size = len(inputs.vocab)\n",
    "input_size = vocab_size\n",
    "num_labels = 3\n",
    "hidden_dim = 50\n",
    "embedding_dim = 300\n",
    "batch_size = 32\n",
    "learning_rate = 0.004\n",
    "num_train_steps = 1000"
   ]
  },
  {
   "cell_type": "code",
   "execution_count": 320,
   "metadata": {},
   "outputs": [
    {
     "name": "stderr",
     "output_type": "stream",
     "text": [
      "/Users/luyujin/anaconda/lib/python3.6/site-packages/ipykernel_launcher.py:5: DeprecationWarning: generator 'Iterator.__iter__' raised StopIteration\n",
      "  \"\"\"\n"
     ]
    },
    {
     "name": "stdout",
     "output_type": "stream",
     "text": [
      "Step 0; Loss 1.256658; Dev acc 0.336212\n",
      "Step 10; Loss 1.111215; Dev acc 0.337736\n",
      "Step 20; Loss 1.103053; Dev acc 0.333164\n",
      "Step 30; Loss 1.096885; Dev acc 0.337939\n",
      "Step 40; Loss 1.100307; Dev acc 0.352571\n",
      "Step 50; Loss 1.118882; Dev acc 0.390165\n",
      "Step 60; Loss 1.121069; Dev acc 0.404389\n",
      "Step 70; Loss 1.052480; Dev acc 0.425422\n",
      "Step 80; Loss 1.058879; Dev acc 0.437309\n",
      "Step 90; Loss 1.093908; Dev acc 0.420037\n",
      "Step 100; Loss 0.968255; Dev acc 0.416988\n",
      "Step 110; Loss 0.916794; Dev acc 0.425726\n",
      "Step 120; Loss 1.050667; Dev acc 0.414245\n",
      "Step 130; Loss 1.171308; Dev acc 0.438021\n",
      "Step 140; Loss 1.102476; Dev acc 0.440154\n",
      "Step 150; Loss 1.041205; Dev acc 0.379191\n",
      "Step 160; Loss 1.112971; Dev acc 0.365170\n",
      "Step 170; Loss 1.091776; Dev acc 0.431721\n",
      "Step 180; Loss 1.102773; Dev acc 0.447978\n",
      "Step 190; Loss 1.056771; Dev acc 0.452550\n",
      "Step 200; Loss 1.068482; Dev acc 0.439342\n",
      "Step 210; Loss 1.140976; Dev acc 0.420341\n",
      "Step 220; Loss 1.021827; Dev acc 0.442085\n",
      "Step 230; Loss 1.037763; Dev acc 0.433550\n",
      "Step 240; Loss 1.083187; Dev acc 0.409063\n",
      "Step 250; Loss 1.004637; Dev acc 0.436395\n",
      "Step 260; Loss 1.085881; Dev acc 0.443914\n",
      "Step 270; Loss 1.052723; Dev acc 0.446556\n",
      "Step 280; Loss 1.130742; Dev acc 0.453668\n",
      "Step 290; Loss 1.056588; Dev acc 0.447775\n",
      "Step 300; Loss 1.099909; Dev acc 0.447267\n",
      "Step 310; Loss 1.059003; Dev acc 0.446149\n",
      "Step 320; Loss 1.021480; Dev acc 0.447876\n",
      "Step 330; Loss 1.017773; Dev acc 0.452347\n",
      "Step 340; Loss 1.122240; Dev acc 0.449705\n",
      "Step 350; Loss 1.130390; Dev acc 0.448689\n",
      "Step 360; Loss 1.089465; Dev acc 0.452855\n",
      "Step 370; Loss 1.051860; Dev acc 0.449502\n",
      "Step 380; Loss 1.224057; Dev acc 0.451128\n",
      "Step 390; Loss 1.088602; Dev acc 0.441374\n",
      "Step 400; Loss 1.065505; Dev acc 0.451128\n",
      "Step 410; Loss 1.047565; Dev acc 0.451026\n",
      "Step 420; Loss 1.099056; Dev acc 0.452042\n",
      "Step 430; Loss 1.188554; Dev acc 0.449401\n",
      "Step 440; Loss 0.995450; Dev acc 0.457427\n",
      "Step 450; Loss 1.069634; Dev acc 0.459459\n",
      "Step 460; Loss 1.096261; Dev acc 0.452144\n",
      "Step 470; Loss 1.064757; Dev acc 0.452754\n",
      "Step 480; Loss 1.018607; Dev acc 0.450112\n",
      "Step 490; Loss 1.025997; Dev acc 0.440459\n",
      "Step 500; Loss 0.998427; Dev acc 0.447267\n",
      "Step 510; Loss 1.138093; Dev acc 0.451534\n",
      "Step 520; Loss 1.001213; Dev acc 0.450518\n",
      "Step 530; Loss 1.088467; Dev acc 0.452957\n",
      "Step 540; Loss 1.112702; Dev acc 0.460577\n",
      "Step 550; Loss 1.081593; Dev acc 0.465759\n",
      "Step 560; Loss 0.999861; Dev acc 0.452449\n",
      "Step 570; Loss 1.039047; Dev acc 0.462101\n",
      "Step 580; Loss 0.963293; Dev acc 0.461593\n",
      "Step 590; Loss 0.926751; Dev acc 0.458240\n",
      "Step 600; Loss 1.083770; Dev acc 0.457427\n",
      "Step 610; Loss 1.063723; Dev acc 0.432534\n",
      "Step 620; Loss 1.088568; Dev acc 0.452957\n",
      "Step 630; Loss 1.074879; Dev acc 0.460272\n",
      "Step 640; Loss 0.901843; Dev acc 0.460780\n",
      "Step 650; Loss 0.981864; Dev acc 0.455090\n",
      "Step 660; Loss 1.054587; Dev acc 0.461796\n",
      "Step 670; Loss 1.085449; Dev acc 0.458647\n"
     ]
    },
    {
     "ename": "KeyboardInterrupt",
     "evalue": "",
     "output_type": "error",
     "traceback": [
      "\u001b[0;31m---------------------------------------------------------------------------\u001b[0m",
      "\u001b[0;31mKeyboardInterrupt\u001b[0m                         Traceback (most recent call last)",
      "\u001b[0;32m<ipython-input-320-b092edbea51a>\u001b[0m in \u001b[0;36m<module>\u001b[0;34m()\u001b[0m\n\u001b[1;32m      6\u001b[0m \u001b[0;34m\u001b[0m\u001b[0m\n\u001b[1;32m      7\u001b[0m \u001b[0;31m# Train the model\u001b[0m\u001b[0;34m\u001b[0m\u001b[0;34m\u001b[0m\u001b[0m\n\u001b[0;32m----> 8\u001b[0;31m \u001b[0mtraining_loop\u001b[0m\u001b[0;34m(\u001b[0m\u001b[0mmodel\u001b[0m\u001b[0;34m,\u001b[0m \u001b[0mloss\u001b[0m\u001b[0;34m,\u001b[0m \u001b[0moptimizer\u001b[0m\u001b[0;34m,\u001b[0m \u001b[0mtrain_iter\u001b[0m\u001b[0;34m,\u001b[0m \u001b[0mdev_iter\u001b[0m\u001b[0;34m)\u001b[0m\u001b[0;34m\u001b[0m\u001b[0m\n\u001b[0m",
      "\u001b[0;32m<ipython-input-317-e4ca668c28b7>\u001b[0m in \u001b[0;36mtraining_loop\u001b[0;34m(model, loss, optimizer, train_iter, dev_iter)\u001b[0m\n\u001b[1;32m     12\u001b[0m             \u001b[0;31m#print(lossy)\u001b[0m\u001b[0;34m\u001b[0m\u001b[0;34m\u001b[0m\u001b[0m\n\u001b[1;32m     13\u001b[0m             \u001b[0mlossy\u001b[0m\u001b[0;34m.\u001b[0m\u001b[0mbackward\u001b[0m\u001b[0;34m(\u001b[0m\u001b[0;34m)\u001b[0m\u001b[0;34m\u001b[0m\u001b[0m\n\u001b[0;32m---> 14\u001b[0;31m             \u001b[0moptimizer\u001b[0m\u001b[0;34m.\u001b[0m\u001b[0mstep\u001b[0m\u001b[0;34m(\u001b[0m\u001b[0;34m)\u001b[0m\u001b[0;34m\u001b[0m\u001b[0m\n\u001b[0m\u001b[1;32m     15\u001b[0m \u001b[0;34m\u001b[0m\u001b[0m\n\u001b[1;32m     16\u001b[0m             \u001b[0;32mif\u001b[0m \u001b[0mstep\u001b[0m \u001b[0;34m%\u001b[0m \u001b[0;36m10\u001b[0m \u001b[0;34m==\u001b[0m \u001b[0;36m0\u001b[0m\u001b[0;34m:\u001b[0m\u001b[0;34m\u001b[0m\u001b[0m\n",
      "\u001b[0;32m~/anaconda/lib/python3.6/site-packages/torch/optim/adam.py\u001b[0m in \u001b[0;36mstep\u001b[0;34m(self, closure)\u001b[0m\n\u001b[1;32m     66\u001b[0m                 \u001b[0mexp_avg_sq\u001b[0m\u001b[0;34m.\u001b[0m\u001b[0mmul_\u001b[0m\u001b[0;34m(\u001b[0m\u001b[0mbeta2\u001b[0m\u001b[0;34m)\u001b[0m\u001b[0;34m.\u001b[0m\u001b[0maddcmul_\u001b[0m\u001b[0;34m(\u001b[0m\u001b[0;36m1\u001b[0m \u001b[0;34m-\u001b[0m \u001b[0mbeta2\u001b[0m\u001b[0;34m,\u001b[0m \u001b[0mgrad\u001b[0m\u001b[0;34m,\u001b[0m \u001b[0mgrad\u001b[0m\u001b[0;34m)\u001b[0m\u001b[0;34m\u001b[0m\u001b[0m\n\u001b[1;32m     67\u001b[0m \u001b[0;34m\u001b[0m\u001b[0m\n\u001b[0;32m---> 68\u001b[0;31m                 \u001b[0mdenom\u001b[0m \u001b[0;34m=\u001b[0m \u001b[0mexp_avg_sq\u001b[0m\u001b[0;34m.\u001b[0m\u001b[0msqrt\u001b[0m\u001b[0;34m(\u001b[0m\u001b[0;34m)\u001b[0m\u001b[0;34m.\u001b[0m\u001b[0madd_\u001b[0m\u001b[0;34m(\u001b[0m\u001b[0mgroup\u001b[0m\u001b[0;34m[\u001b[0m\u001b[0;34m'eps'\u001b[0m\u001b[0;34m]\u001b[0m\u001b[0;34m)\u001b[0m\u001b[0;34m\u001b[0m\u001b[0m\n\u001b[0m\u001b[1;32m     69\u001b[0m \u001b[0;34m\u001b[0m\u001b[0m\n\u001b[1;32m     70\u001b[0m                 \u001b[0mbias_correction1\u001b[0m \u001b[0;34m=\u001b[0m \u001b[0;36m1\u001b[0m \u001b[0;34m-\u001b[0m \u001b[0mbeta1\u001b[0m \u001b[0;34m**\u001b[0m \u001b[0mstate\u001b[0m\u001b[0;34m[\u001b[0m\u001b[0;34m'step'\u001b[0m\u001b[0;34m]\u001b[0m\u001b[0;34m\u001b[0m\u001b[0m\n",
      "\u001b[0;31mKeyboardInterrupt\u001b[0m: "
     ]
    }
   ],
   "source": [
    "model = DecomposableAttention(input_size, embedding_dim, hidden_dim, num_labels)\n",
    "    \n",
    "# Loss and Optimizer\n",
    "loss = nn.CrossEntropyLoss()  \n",
    "optimizer = torch.optim.Adam(model.parameters(), lr=learning_rate)\n",
    "\n",
    "# Train the model\n",
    "training_loop(model, loss, optimizer, train_iter, dev_iter)"
   ]
  },
  {
   "cell_type": "code",
   "execution_count": null,
   "metadata": {
    "collapsed": true
   },
   "outputs": [],
   "source": []
  },
  {
   "cell_type": "code",
   "execution_count": null,
   "metadata": {
    "collapsed": true
   },
   "outputs": [],
   "source": []
  },
  {
   "cell_type": "code",
   "execution_count": null,
   "metadata": {
    "collapsed": true
   },
   "outputs": [],
   "source": []
  }
 ],
 "metadata": {
  "kernelspec": {
   "display_name": "Python 3",
   "language": "python",
   "name": "python3"
  },
  "language_info": {
   "codemirror_mode": {
    "name": "ipython",
    "version": 3
   },
   "file_extension": ".py",
   "mimetype": "text/x-python",
   "name": "python",
   "nbconvert_exporter": "python",
   "pygments_lexer": "ipython3",
   "version": "3.6.2"
  }
 },
 "nbformat": 4,
 "nbformat_minor": 2
}
