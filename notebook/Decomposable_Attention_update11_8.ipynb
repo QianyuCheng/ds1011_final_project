{
 "cells": [
  {
   "cell_type": "code",
   "execution_count": 1,
   "metadata": {
    "collapsed": true
   },
   "outputs": [],
   "source": [
    "from torchtext import data, datasets\n",
    "import torch\n",
    "import torch.nn as nn\n",
    "from torch.autograd import Variable\n",
    "import torch.nn.functional as F\n",
    "import re\n",
    "import random"
   ]
  },
  {
   "cell_type": "code",
   "execution_count": 2,
   "metadata": {
    "collapsed": true
   },
   "outputs": [],
   "source": [
    "inputs = datasets.snli.ParsedTextField(lower=True)\n",
    "answers = data.Field(sequential=False)\n",
    "\n",
    "train, dev, test = datasets.SNLI.splits(inputs, answers)\n",
    "\n",
    "inputs.build_vocab(train, dev, test)\n",
    "answers.build_vocab(train)\n",
    "\n",
    "train_iter, dev_iter, test_iter = data.BucketIterator.splits(\n",
    "            (train, dev, test), batch_size=32, device=-1)"
   ]
  },
  {
   "cell_type": "code",
   "execution_count": 3,
   "metadata": {
    "collapsed": true
   },
   "outputs": [],
   "source": [
    "# A Multi-Layer Perceptron (MLP)\n",
    "class DecomposableAttention(nn.Module): # inheriting from nn.Module!\n",
    "    \n",
    "    def __init__(self, hidden_dim, num_labels):\n",
    "        super(DecomposableAttention, self).__init__()\n",
    "                \n",
    "        '''Embedding'''\n",
    "        self.embedding_dim = embedding_dim \n",
    "        self.hidden_dim = hidden_dim\n",
    "        self.embed = nn.Embedding(input_size, embedding_dim, padding_idx=0)\n",
    "        \n",
    "        self.num_labels = num_labels\n",
    "        self.dropout = nn.Dropout(p=0.2)\n",
    "        \n",
    "        # input layer\n",
    "        self.input_linear = nn.Linear(embedding_dim, hidden_dim, bias=False)\n",
    "    \n",
    "        # layer F, G, and H are feed forward nn with ReLu\n",
    "        self.mlp_F = self.mlp(hidden_dim, hidden_dim)\n",
    "        self.mlp_G = self.mlp(2 * hidden_dim, hidden_dim)\n",
    "        self.mlp_H = self.mlp(2 * hidden_dim, hidden_dim)\n",
    "        \n",
    "        \n",
    "        # final layer will not use dropout, so defining independently \n",
    "        self.linear_final = nn.Linear(hidden_dim, num_labels, bias = False)\n",
    "    \n",
    "\n",
    "    def mlp(self, input_dim, output_dim):\n",
    "        '''\n",
    "        function define a feed forward neural network with ReLu activations \n",
    "        @input: dimension specifications\n",
    "        \n",
    "        ToDo: \n",
    "            1. bias \n",
    "            2. args of dropout(maybe) \n",
    "            3. initialize para   \n",
    "        '''\n",
    "        feed_forward = []\n",
    "        feed_forward.append(self.dropout)\n",
    "        feed_forward.append(nn.Linear(input_dim, output_dim, bias=False))\n",
    "        feed_forward.append(nn.ReLU())\n",
    "        feed_forward.append(self.dropout)\n",
    "        feed_forward.append(nn.Linear(output_dim, output_dim, bias=False))\n",
    "        feed_forward.append(nn.ReLU()) \n",
    "        return nn.Sequential(*feed_forward)\n",
    "\n",
    "    \n",
    "    def forward(self, prem, hypo):\n",
    "\n",
    "        '''Input layer'''\n",
    "        prem_emb = self.embed(prem)\n",
    "        hypo_emb = self.embed(hypo)\n",
    "        prem_emb = self.input_linear(prem_emb)\n",
    "        hypo_emb = self.input_linear(hypo_emb)\n",
    "        \n",
    "        '''Attend'''\n",
    "        f_prem = self.mlp_F(prem_emb)\n",
    "        f_hypo = self.mlp_F(hypo_emb)\n",
    "\n",
    "        e_ij = torch.bmm(f_prem, torch.transpose(f_hypo, 1, 2))\n",
    "        beta_ij = F.softmax(e_ij)\n",
    "        beta_i = torch.bmm(beta_ij, hypo_emb)\n",
    "\n",
    "        e_ji = torch.transpose(e_ij, 1, 2)\n",
    "        alpha_ji = F.softmax(e_ji)\n",
    "        alpha_j = torch.bmm(alpha_ji, prem_emb)\n",
    "          \n",
    "        \n",
    "        '''Compare'''\n",
    "        concat_1 = torch.cat((prem_emb, beta_i), 2)       \n",
    "        concat_2 = torch.cat((hypo_emb, alpha_j), 2)\n",
    "        \n",
    "        compare_1 = self.mlp_G(concat_1)\n",
    "        compare_2 = self.mlp_G(concat_2)\n",
    "        \n",
    "        \n",
    "        '''Aggregate'''\n",
    "        v_1 = torch.sum(compare_1, 1)\n",
    "        v_2 = torch.sum(compare_2, 1)\n",
    "        v_concat = torch.cat((v_1, v_2), 1)\n",
    "        \n",
    "        y_pred = self.mlp_H(v_concat)\n",
    "    \n",
    "    \n",
    "        '''Final layer'''\n",
    "        out = F.log_softmax(self.linear_final(y_pred))\n",
    "        \n",
    "        return out"
   ]
  },
  {
   "cell_type": "code",
   "execution_count": 4,
   "metadata": {
    "collapsed": true
   },
   "outputs": [],
   "source": [
    "def training_loop(model, loss, optimizer, train_iter, dev_iter):\n",
    "    step = 0\n",
    "    for i in range(num_train_steps):\n",
    "        model.train()\n",
    "        for batch in train_iter:\n",
    "            premise = batch.premise.transpose(0,1)\n",
    "            hypothesis = batch.hypothesis.transpose(0,1)\n",
    "            labels = batch.label-1\n",
    "            model.zero_grad()\n",
    "        \n",
    "            output = model(premise, hypothesis)\n",
    "            \n",
    "            lossy = loss(output, labels)\n",
    "            #print(lossy)\n",
    "            lossy.backward()\n",
    "            optimizer.step()\n",
    "\n",
    "            if step % 10 == 0:\n",
    "                print( \"Step %i; Loss %f; Dev acc %f\" \n",
    "                %(step, lossy.data[0], evaluate(model, dev_iter)))\n",
    "\n",
    "            step += 1"
   ]
  },
  {
   "cell_type": "code",
   "execution_count": 5,
   "metadata": {
    "collapsed": true
   },
   "outputs": [],
   "source": [
    "def evaluate(model, data_iter):\n",
    "    model.eval()\n",
    "    correct = 0\n",
    "    total = 0\n",
    "    for batch in data_iter:\n",
    "        premise = batch.premise.transpose(0,1)\n",
    "        hypothesis = batch.hypothesis.transpose(0,1)\n",
    "        labels = (batch.label-1).data\n",
    "        output = model(premise, hypothesis)\n",
    "        _, predicted = torch.max(output.data, 1)\n",
    "        total += labels.size(0)\n",
    "        correct += (predicted == labels).sum()\n",
    "    model.train()\n",
    "    return correct / float(total)"
   ]
  },
  {
   "cell_type": "code",
   "execution_count": 6,
   "metadata": {
    "collapsed": true
   },
   "outputs": [],
   "source": [
    "vocab_size = len(inputs.vocab)\n",
    "input_size = vocab_size\n",
    "num_labels = 3\n",
    "hidden_dim = 50\n",
    "embedding_dim = 300\n",
    "batch_size = 32\n",
    "learning_rate = 0.004\n",
    "num_train_steps = 1000"
   ]
  },
  {
   "cell_type": "code",
   "execution_count": 7,
   "metadata": {},
   "outputs": [
    {
     "name": "stderr",
     "output_type": "stream",
     "text": [
      "/Users/Sean/anaconda/lib/python3.6/site-packages/ipykernel/__main__.py:5: DeprecationWarning: generator 'Iterator.__iter__' raised StopIteration\n"
     ]
    },
    {
     "name": "stdout",
     "output_type": "stream",
     "text": [
      "Step 0; Loss 1.110984; Dev acc 0.328693\n",
      "Step 10; Loss 1.110382; Dev acc 0.345560\n",
      "Step 20; Loss 1.109667; Dev acc 0.328389\n"
     ]
    },
    {
     "ename": "KeyboardInterrupt",
     "evalue": "",
     "output_type": "error",
     "traceback": [
      "\u001b[0;31m---------------------------------------------------------------------------\u001b[0m",
      "\u001b[0;31mKeyboardInterrupt\u001b[0m                         Traceback (most recent call last)",
      "\u001b[0;32m<ipython-input-7-3af503fc8e5e>\u001b[0m in \u001b[0;36m<module>\u001b[0;34m()\u001b[0m\n\u001b[1;32m      6\u001b[0m \u001b[0;34m\u001b[0m\u001b[0m\n\u001b[1;32m      7\u001b[0m \u001b[0;31m# Train the model\u001b[0m\u001b[0;34m\u001b[0m\u001b[0;34m\u001b[0m\u001b[0m\n\u001b[0;32m----> 8\u001b[0;31m \u001b[0mtraining_loop\u001b[0m\u001b[0;34m(\u001b[0m\u001b[0mmodel\u001b[0m\u001b[0;34m,\u001b[0m \u001b[0mloss\u001b[0m\u001b[0;34m,\u001b[0m \u001b[0moptimizer\u001b[0m\u001b[0;34m,\u001b[0m \u001b[0mtrain_iter\u001b[0m\u001b[0;34m,\u001b[0m \u001b[0mdev_iter\u001b[0m\u001b[0;34m)\u001b[0m\u001b[0;34m\u001b[0m\u001b[0m\n\u001b[0m",
      "\u001b[0;32m<ipython-input-4-9d4a2090b50a>\u001b[0m in \u001b[0;36mtraining_loop\u001b[0;34m(model, loss, optimizer, train_iter, dev_iter)\u001b[0m\n\u001b[1;32m     14\u001b[0m             \u001b[0;31m#print(lossy)\u001b[0m\u001b[0;34m\u001b[0m\u001b[0;34m\u001b[0m\u001b[0m\n\u001b[1;32m     15\u001b[0m             \u001b[0mlossy\u001b[0m\u001b[0;34m.\u001b[0m\u001b[0mbackward\u001b[0m\u001b[0;34m(\u001b[0m\u001b[0;34m)\u001b[0m\u001b[0;34m\u001b[0m\u001b[0m\n\u001b[0;32m---> 16\u001b[0;31m             \u001b[0moptimizer\u001b[0m\u001b[0;34m.\u001b[0m\u001b[0mstep\u001b[0m\u001b[0;34m(\u001b[0m\u001b[0;34m)\u001b[0m\u001b[0;34m\u001b[0m\u001b[0m\n\u001b[0m\u001b[1;32m     17\u001b[0m \u001b[0;34m\u001b[0m\u001b[0m\n\u001b[1;32m     18\u001b[0m             \u001b[0;32mif\u001b[0m \u001b[0mstep\u001b[0m \u001b[0;34m%\u001b[0m \u001b[0;36m10\u001b[0m \u001b[0;34m==\u001b[0m \u001b[0;36m0\u001b[0m\u001b[0;34m:\u001b[0m\u001b[0;34m\u001b[0m\u001b[0m\n",
      "\u001b[0;32m~/anaconda/lib/python3.6/site-packages/torch/optim/adam.py\u001b[0m in \u001b[0;36mstep\u001b[0;34m(self, closure)\u001b[0m\n\u001b[1;32m     64\u001b[0m                 \u001b[0;31m# Decay the first and second moment running average coefficient\u001b[0m\u001b[0;34m\u001b[0m\u001b[0;34m\u001b[0m\u001b[0m\n\u001b[1;32m     65\u001b[0m                 \u001b[0mexp_avg\u001b[0m\u001b[0;34m.\u001b[0m\u001b[0mmul_\u001b[0m\u001b[0;34m(\u001b[0m\u001b[0mbeta1\u001b[0m\u001b[0;34m)\u001b[0m\u001b[0;34m.\u001b[0m\u001b[0madd_\u001b[0m\u001b[0;34m(\u001b[0m\u001b[0;36m1\u001b[0m \u001b[0;34m-\u001b[0m \u001b[0mbeta1\u001b[0m\u001b[0;34m,\u001b[0m \u001b[0mgrad\u001b[0m\u001b[0;34m)\u001b[0m\u001b[0;34m\u001b[0m\u001b[0m\n\u001b[0;32m---> 66\u001b[0;31m                 \u001b[0mexp_avg_sq\u001b[0m\u001b[0;34m.\u001b[0m\u001b[0mmul_\u001b[0m\u001b[0;34m(\u001b[0m\u001b[0mbeta2\u001b[0m\u001b[0;34m)\u001b[0m\u001b[0;34m.\u001b[0m\u001b[0maddcmul_\u001b[0m\u001b[0;34m(\u001b[0m\u001b[0;36m1\u001b[0m \u001b[0;34m-\u001b[0m \u001b[0mbeta2\u001b[0m\u001b[0;34m,\u001b[0m \u001b[0mgrad\u001b[0m\u001b[0;34m,\u001b[0m \u001b[0mgrad\u001b[0m\u001b[0;34m)\u001b[0m\u001b[0;34m\u001b[0m\u001b[0m\n\u001b[0m\u001b[1;32m     67\u001b[0m \u001b[0;34m\u001b[0m\u001b[0m\n\u001b[1;32m     68\u001b[0m                 \u001b[0mdenom\u001b[0m \u001b[0;34m=\u001b[0m \u001b[0mexp_avg_sq\u001b[0m\u001b[0;34m.\u001b[0m\u001b[0msqrt\u001b[0m\u001b[0;34m(\u001b[0m\u001b[0;34m)\u001b[0m\u001b[0;34m.\u001b[0m\u001b[0madd_\u001b[0m\u001b[0;34m(\u001b[0m\u001b[0mgroup\u001b[0m\u001b[0;34m[\u001b[0m\u001b[0;34m'eps'\u001b[0m\u001b[0;34m]\u001b[0m\u001b[0;34m)\u001b[0m\u001b[0;34m\u001b[0m\u001b[0m\n",
      "\u001b[0;31mKeyboardInterrupt\u001b[0m: "
     ]
    }
   ],
   "source": [
    "model = DecomposableAttention(hidden_dim, num_labels)\n",
    "    \n",
    "# Loss and Optimizer\n",
    "loss = nn.CrossEntropyLoss()  \n",
    "optimizer = torch.optim.Adam(model.parameters(), lr=learning_rate)\n",
    "\n",
    "# Train the model\n",
    "training_loop(model, loss, optimizer, train_iter, dev_iter)"
   ]
  },
  {
   "cell_type": "code",
   "execution_count": null,
   "metadata": {
    "collapsed": true
   },
   "outputs": [],
   "source": []
  },
  {
   "cell_type": "code",
   "execution_count": null,
   "metadata": {
    "collapsed": true
   },
   "outputs": [],
   "source": []
  },
  {
   "cell_type": "code",
   "execution_count": null,
   "metadata": {
    "collapsed": true
   },
   "outputs": [],
   "source": []
  }
 ],
 "metadata": {
  "kernelspec": {
   "display_name": "Python 3",
   "language": "python",
   "name": "python3"
  },
  "language_info": {
   "codemirror_mode": {
    "name": "ipython",
    "version": 3
   },
   "file_extension": ".py",
   "mimetype": "text/x-python",
   "name": "python",
   "nbconvert_exporter": "python",
   "pygments_lexer": "ipython3",
   "version": "3.6.2"
  }
 },
 "nbformat": 4,
 "nbformat_minor": 2
}
